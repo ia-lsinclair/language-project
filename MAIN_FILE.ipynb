{
 "cells": [
  {
   "cell_type": "code",
   "execution_count": 11,
   "id": "e7a349ed",
   "metadata": {},
   "outputs": [],
   "source": [
    "#imports\n",
    "from pathlib import Path\n",
    "import json\n",
    "from collections import defaultdict\n",
    "import numpy as np\n",
    "import time\n",
    "import gensim\n",
    "from gensim.models.keyedvectors import KeyedVectors\n",
    "from sklearn.decomposition import TruncatedSVD\n",
    "import matplotlib.pyplot as plt\n",
    "%matplotlib inline\n",
    "import re, string"
   ]
  },
  {
   "cell_type": "markdown",
   "id": "e544293f",
   "metadata": {},
   "source": [
    "Class orgainzing COCO data:"
   ]
  },
  {
   "cell_type": "code",
   "execution_count": 13,
   "id": "03a2f806",
   "metadata": {},
   "outputs": [],
   "source": [
    "from pathlib import Path\n",
    "import json\n",
    "\n",
    "# load COCO metadata\n",
    "filename = r\"data/captions_train2014.json\"\n",
    "with Path(filename).open() as f:\n",
    "    coco_data = json.load(f)"
   ]
  },
  {
   "cell_type": "code",
   "execution_count": 14,
   "id": "b68301e5",
   "metadata": {},
   "outputs": [],
   "source": [
    "class coco_values:\n",
    "    def __init__(self, coco_data):\n",
    "        #make variables for images and captions\n",
    "        self.coco_annotations = coco_data['annotations']\n",
    "        self.coco_images = coco_data['images']\n",
    "        self.coco_img_ids = [i['id'] for i in self.coco_images]\n",
    "        self.coco_cap_ids = [i['id'] for i in self.coco_annotations]\n",
    "    def get_captions(self, image_id):\n",
    "            #Find the caption IDs by returning all caption IDs associated with an image ID\n",
    "        return [i['id'] for i in self.coco_annotations if i['image_id'] == image_id]\n",
    "    def get_image_from_cap(self, caption_id):\n",
    "        #Find the image ID by seeing if any image had a caption ID match\n",
    "        return [i['image_id'] for i in self.coco_annotations if i['id'] == caption_id][0]\n",
    "    def get_caption_text(self, caption_id):\n",
    "        #Take the text from a given caption ID\n",
    "        return [i['caption'] for i in self.coco_annotations if i['id'] == caption_id][0]\n",
    "    def get_url(self, image_id):\n",
    "        return [i['coco_url'] for i in self.coco_images if i['id'] == image_id]"
   ]
  },
  {
   "cell_type": "code",
   "execution_count": 21,
   "id": "b410d4ef",
   "metadata": {},
   "outputs": [],
   "source": [
    "coco = coco_values(coco_data)"
   ]
  },
  {
   "cell_type": "markdown",
   "id": "c1924f96",
   "metadata": {},
   "source": [
    "Embed caption:"
   ]
  },
  {
   "cell_type": "code",
   "execution_count": 18,
   "id": "da35d2ce",
   "metadata": {},
   "outputs": [
    {
     "name": "stdout",
     "output_type": "stream",
     "text": [
      "elapsed 154.36117029190063s\n"
     ]
    }
   ],
   "source": [
    "#load glove dataset\n",
    "path = r\"data/glove.6B.200d.txt.w2v\"\n",
    "t0 = time.time()\n",
    "glove = KeyedVectors.load_word2vec_format(path, binary=False)\n",
    "t1 = time.time()\n",
    "print(\"elapsed %ss\" % (t1 - t0))"
   ]
  },
  {
   "cell_type": "code",
   "execution_count": 19,
   "id": "15726f32",
   "metadata": {},
   "outputs": [],
   "source": [
    "def string2vectors(given_str,IDF=None):\n",
    "    if IDF is None:\n",
    "        print(\"No IDF given, loading GloVe-200d\")\n",
    "        path = r\"data/glove.6B.200d.txt.w2v\"\n",
    "        t0 = time.time()\n",
    "        IDF = KeyedVectors.load_word2vec_format(path, binary=False)\n",
    "        t1 = time.time()\n",
    "        print(\"GloVe loaded in: %ss\" % (t1-t0))\n",
    "    punc_regex = re.compile('[{}]'.format(re.escape(string.punctuation)))\n",
    "    given_str = punc_regex.sub('', given_str)\n",
    "    str_list = given_str.lower().split()\n",
    "    return [IDF[word] if word in IDF else np.zeroes((200,)) for word in str_list]"
   ]
  },
  {
   "cell_type": "markdown",
   "id": "cc16dcfa",
   "metadata": {},
   "source": [
    "MyNN model:"
   ]
  },
  {
   "cell_type": "markdown",
   "id": "a3651163",
   "metadata": {},
   "source": [
    "Extract Sets:"
   ]
  },
  {
   "cell_type": "code",
   "execution_count": null,
   "id": "9c0cbbb7",
   "metadata": {},
   "outputs": [],
   "source": [
    "image_ids = coco.coco_img_ids\n",
    "pairs = set([(image_id, coco.get_captions(image_id)) for image_id in image_ids])"
   ]
  },
  {
   "cell_type": "markdown",
   "id": "bd3668d2",
   "metadata": {},
   "source": [
    "Compute loss:"
   ]
  },
  {
   "cell_type": "markdown",
   "id": "052d6c20",
   "metadata": {},
   "source": [
    "Train the model:"
   ]
  },
  {
   "cell_type": "markdown",
   "id": "1a01f8fd",
   "metadata": {},
   "source": [
    "Saving /  loading weights:"
   ]
  },
  {
   "cell_type": "markdown",
   "id": "47e7c3e5",
   "metadata": {},
   "source": [
    "Generate image vectors:"
   ]
  },
  {
   "cell_type": "markdown",
   "id": "25efc06e",
   "metadata": {},
   "source": [
    "Create image database:"
   ]
  },
  {
   "cell_type": "markdown",
   "id": "72b16dc8",
   "metadata": {},
   "source": [
    "Query database:"
   ]
  },
  {
   "cell_type": "markdown",
   "id": "de340a49",
   "metadata": {},
   "source": [
    "Display images:"
   ]
  },
  {
   "cell_type": "code",
   "execution_count": null,
   "id": "865df841",
   "metadata": {},
   "outputs": [],
   "source": []
  }
 ],
 "metadata": {
  "kernelspec": {
   "display_name": "Python 3 (ipykernel)",
   "language": "python",
   "name": "python3"
  },
  "language_info": {
   "codemirror_mode": {
    "name": "ipython",
    "version": 3
   },
   "file_extension": ".py",
   "mimetype": "text/x-python",
   "name": "python",
   "nbconvert_exporter": "python",
   "pygments_lexer": "ipython3",
   "version": "3.8.12"
  }
 },
 "nbformat": 4,
 "nbformat_minor": 5
}
