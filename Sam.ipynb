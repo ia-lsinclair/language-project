{
 "cells": [
  {
   "cell_type": "code",
   "execution_count": 2,
   "id": "e8259d20",
   "metadata": {},
   "outputs": [],
   "source": [
    "#imports\n",
    "from pathlib import Path\n",
    "import json\n",
    "from collections import defaultdict\n",
    "import numpy as np\n",
    "import time\n",
    "import gensim\n",
    "from gensim.models.keyedvectors import KeyedVectors\n",
    "from sklearn.decomposition import TruncatedSVD\n",
    "import matplotlib.pyplot as plt\n",
    "%matplotlib inline\n",
    "import re, string"
   ]
  },
  {
   "cell_type": "code",
   "execution_count": 3,
   "id": "41bff43a",
   "metadata": {},
   "outputs": [],
   "source": [
    "# load COCO metadata\n",
    "filename = \"data/captions_train2014.json\"\n",
    "with Path(filename).open() as f:\n",
    "    coco_data = json.load(f)"
   ]
  },
  {
   "cell_type": "code",
   "execution_count": 8,
   "id": "95fb7b35",
   "metadata": {},
   "outputs": [],
   "source": [
    "class coco_values:\n",
    "    def __init__(self, coco_data):\n",
    "        #make variables for images and captions\n",
    "        self.coco_annotations = coco_data['annotations']\n",
    "        self.coco_images = coco_data['images']\n",
    "        self.coco_img_ids = [i['id'] for i in self.coco_images]\n",
    "        self.coco_cap_ids = [i['id'] for i in self.coco_annotations]\n",
    "    def get_captions(self, image_id):\n",
    "            #Find the caption IDs by returning all caption IDs associated with an image ID\n",
    "        return [i['id'] for i in self.coco_annotations if i['image_id'] == image_id]\n",
    "    def get_image_from_cap(self, caption_id):\n",
    "        #Find the image ID by seeing if any image had a caption ID match\n",
    "        return [i['image_id'] for i in self.coco_annotations if i['id'] == caption_id][0]\n",
    "    def get_caption_text(self, caption_id):\n",
    "        #Take the text from a given caption ID\n",
    "        return [i['caption'] for i in self.coco_annotations if i['id'] == caption_id][0]\n",
    "    def get_url(self, image_id):\n",
    "        return [i['coco_url'] for i in self.coco_images if i['id'] == image_id]"
   ]
  },
  {
   "cell_type": "code",
   "execution_count": 11,
   "id": "6ebfefef",
   "metadata": {},
   "outputs": [],
   "source": [
    "x = coco_values(coco_data)"
   ]
  },
  {
   "cell_type": "code",
   "execution_count": 12,
   "id": "0797675d",
   "metadata": {},
   "outputs": [
    {
     "data": {
      "text/plain": [
       "[48, 126, 219, 255, 3555]"
      ]
     },
     "execution_count": 12,
     "metadata": {},
     "output_type": "execute_result"
    }
   ],
   "source": [
    "x.get_captions(318556)"
   ]
  },
  {
   "cell_type": "code",
   "execution_count": 13,
   "id": "4775a6f7",
   "metadata": {},
   "outputs": [
    {
     "data": {
      "text/plain": [
       "318556"
      ]
     },
     "execution_count": 13,
     "metadata": {},
     "output_type": "execute_result"
    }
   ],
   "source": [
    "x.get_image_from_cap(48)"
   ]
  },
  {
   "cell_type": "code",
   "execution_count": 14,
   "id": "dc2e432c",
   "metadata": {},
   "outputs": [
    {
     "data": {
      "text/plain": [
       "'A very clean and well decorated empty bathroom'"
      ]
     },
     "execution_count": 14,
     "metadata": {},
     "output_type": "execute_result"
    }
   ],
   "source": [
    "x.get_caption_text(48)"
   ]
  },
  {
   "cell_type": "code",
   "execution_count": 16,
   "id": "efcd1e16",
   "metadata": {},
   "outputs": [
    {
     "name": "stdout",
     "output_type": "stream",
     "text": [
      "elapsed 97.68171954154968s\n"
     ]
    }
   ],
   "source": [
    "#load glove dataset\n",
    "path = r\"data/glove.6B.200d.txt.w2v\"\n",
    "t0 = time.time()\n",
    "glove = KeyedVectors.load_word2vec_format(path, binary=False)\n",
    "t1 = time.time()\n",
    "print(\"elapsed %ss\" % (t1 - t0))"
   ]
  },
  {
   "cell_type": "code",
   "execution_count": 32,
   "id": "fb646ccf",
   "metadata": {},
   "outputs": [],
   "source": [
    "def string2vectors(given_str,IDF=None):\n",
    "    if IDF is None:\n",
    "        print(\"No IDF given, loading GloVe-200d\")\n",
    "        path = r\"data/glove.6B.200d.txt.w2v\"\n",
    "        t0 = time.time()\n",
    "        IDF = KeyedVectors.load_word2vec_format(path, binary=False)\n",
    "        t1 = time.time()\n",
    "        print(\"GloVe loaded in: %ss\" % (t1-t0))\n",
    "    punc_regex = re.compile('[{}]'.format(re.escape(string.punctuation)))\n",
    "    given_str = punc_regex.sub('', given_str)\n",
    "    str_list = given_str.lower().split()\n",
    "    return [IDF[word] if word in IDF else np.zeroes((200,)) for word in str_list]"
   ]
  },
  {
   "cell_type": "code",
   "execution_count": 33,
   "id": "47794b33",
   "metadata": {},
   "outputs": [],
   "source": [
    "#string2vectors(\"My dog loves me\",glove)"
   ]
  },
  {
   "cell_type": "code",
   "execution_count": 36,
   "id": "1d95df2a",
   "metadata": {},
   "outputs": [],
   "source": [
    "class ImageToWord:\n",
    "    def __init__(self, context_words, d):\n",
    "        \"\"\" Initializes all of the encoder and decoder layers in our model, setting them\n",
    "        as attributes of the model.\n",
    "        \n",
    "        Parameters\n",
    "        ----------\n",
    "        context_words : int\n",
    "            The number of context words included in our vocabulary\n",
    "            \n",
    "        d : int\n",
    "            The dimensionality of our word embeddings\n",
    "        \"\"\"\n",
    "        \n",
    "        # STUDENT CODE:\n",
    "        self.encode = dense(context_words, d, weight_initializer=glorot_normal, bias=False)\n",
    "        self.decode = dense(d, context_words, weight_initializer=glorot_normal, bias=False)\n",
    "        \n",
    "    \n",
    "    \n",
    "    def __call__(self, x):\n",
    "        ''' Passes data as input to our model, performing a \"forward-pass\".\n",
    "        \n",
    "        This allows us to conveniently initialize a model `m` and then send data through it\n",
    "        to be classified by calling `m(x)`.\n",
    "        \n",
    "        Parameters\n",
    "        ----------\n",
    "        x : Union[numpy.ndarray, mygrad.Tensor], shape=(M, context_words)\n",
    "            A batch of data consisting of M words from the context matrix,\n",
    "                each tracking the number of co-occurences with `context_words` words.\n",
    "                \n",
    "        Returns\n",
    "        -------\n",
    "        mygrad.Tensor, shape=(M, context_words)\n",
    "            The result of passing the data through borth the encoder and decoder.\n",
    "        '''\n",
    "        \n",
    "        # STUDENT CODE:\n",
    "        return self.decode(self.encode(x))\n",
    "    \n",
    "    \n",
    "    @property\n",
    "    def parameters(self):\n",
    "        \"\"\" A convenience function for getting all the parameters of our model.\n",
    "        \n",
    "        This can be accessed as an attribute, via `model.parameters` \n",
    "        \n",
    "        Returns\n",
    "        -------\n",
    "        Tuple[Tensor, ...]\n",
    "            A tuple containing all of the learnable parameters for our model\"\"\"\n",
    "        \n",
    "        # STUDENT CODE:\n",
    "        return self.encode.parameters + self.decode.parameters"
   ]
  },
  {
   "cell_type": "code",
   "execution_count": null,
   "id": "d722b504",
   "metadata": {},
   "outputs": [],
   "source": []
  }
 ],
 "metadata": {
  "kernelspec": {
   "display_name": "Python 3 (ipykernel)",
   "language": "python",
   "name": "python3"
  },
  "language_info": {
   "codemirror_mode": {
    "name": "ipython",
    "version": 3
   },
   "file_extension": ".py",
   "mimetype": "text/x-python",
   "name": "python",
   "nbconvert_exporter": "python",
   "pygments_lexer": "ipython3",
   "version": "3.8.12"
  }
 },
 "nbformat": 4,
 "nbformat_minor": 5
}
