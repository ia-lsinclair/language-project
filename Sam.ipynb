{
 "cells": [
  {
   "cell_type": "code",
   "execution_count": 1,
   "id": "e8259d20",
   "metadata": {},
   "outputs": [],
   "source": [
    "#imports\n",
    "from pathlib import Path\n",
    "import json\n",
    "from collections import defaultdict\n",
    "import numpy as np\n",
    "import time\n",
    "import gensim\n",
    "from gensim.models.keyedvectors import KeyedVectors\n",
    "from sklearn.decomposition import TruncatedSVD\n",
    "import matplotlib.pyplot as plt\n",
    "%matplotlib inline\n",
    "import re, string\n",
    "import pickle"
   ]
  },
  {
   "cell_type": "code",
   "execution_count": 5,
   "id": "41bff43a",
   "metadata": {},
   "outputs": [],
   "source": [
    "# load COCO metadata\n",
    "filename = \"data/captions_train2014.json\"\n",
    "with Path(filename).open() as f:\n",
    "    coco_data = json.load(f)"
   ]
  },
  {
   "cell_type": "code",
   "execution_count": 2,
   "id": "dbb3a15b",
   "metadata": {},
   "outputs": [],
   "source": [
    "with Path('data/resnet18_features.pkl').open('rb') as f:\n",
    "    resnet18_features = pickle.load(f)"
   ]
  },
  {
   "cell_type": "code",
   "execution_count": 20,
   "id": "95fb7b35",
   "metadata": {},
   "outputs": [],
   "source": [
    "class coco_values:\n",
    "    def __init__(self, coco_data):\n",
    "        #make variables for images and captions\n",
    "        self.coco_annotations = coco_data['annotations']\n",
    "        self.coco_images = coco_data['images']\n",
    "        self.coco_img_ids = [i['id'] for i in self.coco_images if i['id'] in resnet18_features.keys()]\n",
    "        self.coco_cap_ids = [i['id'] for i in self.coco_annotations if i['image_id'] in resnet18_features.keys()]\n",
    "    def get_captions(self, image_id):\n",
    "            #Find the caption IDs by returning all caption IDs associated with an image ID\n",
    "        return [i['id'] for i in self.coco_annotations if i['image_id'] == image_id]\n",
    "    def get_image_from_cap(self, caption_id):\n",
    "        #Find the image ID by seeing if any image had a caption ID match\n",
    "        return [i['image_id'] for i in self.coco_annotations if i['id'] == caption_id][0]\n",
    "    def get_caption_text(self, caption_id):\n",
    "        #Take the text from a given caption ID\n",
    "        return [i['caption'] for i in self.coco_annotations if i['id'] == caption_id][0]\n",
    "    def get_url(self, image_id):\n",
    "        return [i['coco_url'] for i in self.coco_images if i['id'] == image_id]"
   ]
  },
  {
   "cell_type": "code",
   "execution_count": 21,
   "id": "6ebfefef",
   "metadata": {},
   "outputs": [],
   "source": [
    "x = coco_values(coco_data)"
   ]
  },
  {
   "cell_type": "code",
   "execution_count": 17,
   "id": "0797675d",
   "metadata": {},
   "outputs": [
    {
     "data": {
      "text/plain": [
       "[48, 126, 219, 255, 3555]"
      ]
     },
     "execution_count": 17,
     "metadata": {},
     "output_type": "execute_result"
    }
   ],
   "source": [
    "x.get_captions(318556)"
   ]
  },
  {
   "cell_type": "code",
   "execution_count": 18,
   "id": "4775a6f7",
   "metadata": {},
   "outputs": [
    {
     "data": {
      "text/plain": [
       "318556"
      ]
     },
     "execution_count": 18,
     "metadata": {},
     "output_type": "execute_result"
    }
   ],
   "source": [
    "x.get_image_from_cap(48)"
   ]
  },
  {
   "cell_type": "code",
   "execution_count": 19,
   "id": "dc2e432c",
   "metadata": {},
   "outputs": [
    {
     "data": {
      "text/plain": [
       "'A very clean and well decorated empty bathroom'"
      ]
     },
     "execution_count": 19,
     "metadata": {},
     "output_type": "execute_result"
    }
   ],
   "source": [
    "x.get_caption_text(48)"
   ]
  },
  {
   "cell_type": "code",
   "execution_count": 16,
   "id": "efcd1e16",
   "metadata": {},
   "outputs": [
    {
     "name": "stdout",
     "output_type": "stream",
     "text": [
      "elapsed 97.68171954154968s\n"
     ]
    }
   ],
   "source": [
    "#load glove dataset\n",
    "path = r\"data/glove.6B.200d.txt.w2v\"\n",
    "t0 = time.time()\n",
    "glove = KeyedVectors.load_word2vec_format(path, binary=False)\n",
    "t1 = time.time()\n",
    "print(\"elapsed %ss\" % (t1 - t0))"
   ]
  },
  {
   "cell_type": "code",
   "execution_count": 32,
   "id": "fb646ccf",
   "metadata": {},
   "outputs": [],
   "source": [
    "def string2vectors(given_str,IDF=None):\n",
    "    if IDF is None:\n",
    "        print(\"No IDF given, loading GloVe-200d\")\n",
    "        path = r\"data/glove.6B.200d.txt.w2v\"\n",
    "        t0 = time.time()\n",
    "        IDF = KeyedVectors.load_word2vec_format(path, binary=False)\n",
    "        t1 = time.time()\n",
    "        print(\"GloVe loaded in: %ss\" % (t1-t0))\n",
    "    punc_regex = re.compile('[{}]'.format(re.escape(string.punctuation)))\n",
    "    given_str = punc_regex.sub('', given_str)\n",
    "    str_list = given_str.lower().split()\n",
    "    return [IDF[word] if word in IDF else np.zeroes((200,)) for word in str_list]"
   ]
  },
  {
   "cell_type": "code",
   "execution_count": 33,
   "id": "47794b33",
   "metadata": {},
   "outputs": [],
   "source": [
    "#string2vectors(\"My dog loves me\",glove)"
   ]
  },
  {
   "cell_type": "code",
   "execution_count": 36,
   "id": "1d95df2a",
   "metadata": {},
   "outputs": [],
   "source": [
    "class ImageToWord:\n",
    "    def __init__(self, context_words, d):\n",
    "        \"\"\" Initializes all of the encoder and decoder layers in our model, setting them\n",
    "        as attributes of the model.\n",
    "        \n",
    "        Parameters\n",
    "        ----------\n",
    "        context_words : int\n",
    "            The number of context words included in our vocabulary\n",
    "            \n",
    "        d : int\n",
    "            The dimensionality of our word embeddings\n",
    "        \"\"\"\n",
    "        \n",
    "        # STUDENT CODE:\n",
    "        self.encode = dense(context_words, d, weight_initializer=glorot_normal, bias=False)\n",
    "        self.decode = dense(d, context_words, weight_initializer=glorot_normal, bias=False)\n",
    "        \n",
    "    \n",
    "    \n",
    "    def __call__(self, x):\n",
    "        ''' Passes data as input to our model, performing a \"forward-pass\".\n",
    "        \n",
    "        This allows us to conveniently initialize a model `m` and then send data through it\n",
    "        to be classified by calling `m(x)`.\n",
    "        \n",
    "        Parameters\n",
    "        ----------\n",
    "        x : Union[numpy.ndarray, mygrad.Tensor], shape=(M, context_words)\n",
    "            A batch of data consisting of M words from the context matrix,\n",
    "                each tracking the number of co-occurences with `context_words` words.\n",
    "                \n",
    "        Returns\n",
    "        -------\n",
    "        mygrad.Tensor, shape=(M, context_words)\n",
    "            The result of passing the data through borth the encoder and decoder.\n",
    "        '''\n",
    "        \n",
    "        # STUDENT CODE:\n",
    "        return self.decode(self.encode(x))\n",
    "    \n",
    "    \n",
    "    @property\n",
    "    def parameters(self):\n",
    "        \"\"\" A convenience function for getting all the parameters of our model.\n",
    "        \n",
    "        This can be accessed as an attribute, via `model.parameters` \n",
    "        \n",
    "        Returns\n",
    "        -------\n",
    "        Tuple[Tensor, ...]\n",
    "            A tuple containing all of the learnable parameters for our model\"\"\"\n",
    "        \n",
    "        # STUDENT CODE:\n",
    "        return self.encode.parameters + self.decode.parameters"
   ]
  },
  {
   "cell_type": "code",
   "execution_count": 24,
   "id": "d722b504",
   "metadata": {},
   "outputs": [],
   "source": [
    "def resnetID2vectors(N,resnet_model=None):\n",
    "    if resnet_model is None:\n",
    "        print(\"no resnet model given, using ResNet18\")\n",
    "        with Path('data/resnet18_features.pkl').open('rb') as f:\n",
    "            resnet_model = pickle.load(f)\n",
    "    return [resnet_model[i] for i in N if i in resnet_model.keys()]"
   ]
  },
  {
   "cell_type": "code",
   "execution_count": 27,
   "id": "1c29a119",
   "metadata": {},
   "outputs": [
    {
     "name": "stdout",
     "output_type": "stream",
     "text": [
      "no resnet model given, using ResNet18\n"
     ]
    },
    {
     "data": {
      "text/plain": [
       "[array([[6.63060725e-01, 7.25843489e-01, 2.50235319e+00, 3.05797410e+00,\n",
       "         1.18076408e+00, 8.59722376e-01, 2.11275458e+00, 1.66923761e+00,\n",
       "         9.30204213e-01, 2.95161271e+00, 4.11769390e-01, 2.46403694e+00,\n",
       "         3.68513763e-01, 1.11124635e+00, 6.83404088e-01, 2.38099003e+00,\n",
       "         3.51461768e-01, 4.53104496e-01, 6.18082881e-01, 1.47529796e-01,\n",
       "         6.73661709e-01, 8.39756727e-01, 8.64176512e-01, 2.60511875e-01,\n",
       "         7.59026051e-01, 2.43982124e+00, 1.52093339e+00, 6.98069096e-01,\n",
       "         7.00831831e-01, 4.83107895e-01, 1.89520228e+00, 5.31131327e-01,\n",
       "         5.05404234e-01, 7.72590935e-01, 1.47595334e+00, 1.46737254e+00,\n",
       "         3.97098160e+00, 1.54140517e-01, 5.48306704e-01, 1.23401248e+00,\n",
       "         2.30810314e-01, 1.65646225e-01, 7.39505067e-02, 6.08843267e-01,\n",
       "         4.72796887e-01, 1.17470765e+00, 4.49406654e-02, 2.92875671e+00,\n",
       "         2.91214973e-01, 1.36587119e+00, 9.66572523e-01, 8.86391938e-01,\n",
       "         7.79555738e-01, 2.26721197e-01, 7.75084496e-01, 1.50140083e+00,\n",
       "         1.33596790e+00, 1.22426070e-01, 1.82630420e-01, 6.13007784e-01,\n",
       "         4.10647094e-01, 1.17689580e-01, 1.61024742e-03, 1.84260297e+00,\n",
       "         1.51109350e+00, 2.20641136e-01, 1.64941955e+00, 1.20811403e+00,\n",
       "         5.73760495e-02, 8.08685124e-01, 6.97932661e-01, 5.11279404e-01,\n",
       "         1.27361941e+00, 1.46569204e+00, 4.89544421e-02, 2.26982760e+00,\n",
       "         1.81934051e-02, 1.13430953e+00, 3.26253027e-01, 2.71348417e-01,\n",
       "         5.25815368e-01, 1.14683318e+00, 1.08912039e+00, 6.41449392e-01,\n",
       "         7.09905922e-01, 7.59953856e-01, 2.04641581e-01, 4.20288056e-01,\n",
       "         1.56069744e+00, 6.70125008e-01, 2.34898305e+00, 9.20071900e-01,\n",
       "         5.02241030e-02, 2.34455884e-01, 2.56068110e+00, 3.69385153e-01,\n",
       "         1.02740133e+00, 1.35080981e+00, 2.00484842e-01, 1.06478107e+00,\n",
       "         7.69419521e-02, 5.16145647e-01, 4.08470362e-01, 1.63565159e+00,\n",
       "         5.51481545e-01, 2.24216208e-01, 6.94732293e-02, 3.76808256e-01,\n",
       "         1.49196124e+00, 2.01496100e+00, 8.32042694e-01, 4.96409953e-01,\n",
       "         4.38521922e-01, 2.37578750e-01, 3.29621375e-01, 1.48558602e-01,\n",
       "         1.63996029e+00, 1.05243087e+00, 4.88569289e-01, 1.52268779e+00,\n",
       "         2.81430304e-01, 6.30059242e-01, 1.19947708e+00, 7.37945139e-02,\n",
       "         4.40908261e-02, 6.71742335e-02, 1.48559928e+00, 8.39243233e-01,\n",
       "         2.45137548e+00, 5.58608472e-01, 9.44185436e-01, 7.28833258e-01,\n",
       "         4.34597433e-01, 8.62315178e-01, 4.15392518e-01, 3.91884893e-01,\n",
       "         5.64994141e-02, 1.14878297e+00, 4.96381968e-02, 3.21094543e-01,\n",
       "         5.19352078e-01, 1.30023253e+00, 5.71598172e-01, 1.32515669e-01,\n",
       "         9.10294652e-01, 1.68771935e+00, 5.07850125e-02, 1.56279337e+00,\n",
       "         1.36801362e-01, 3.89303625e-01, 1.94298720e+00, 3.10887069e-01,\n",
       "         5.93080580e-01, 6.87033543e-03, 2.98321009e-01, 6.66122913e-01,\n",
       "         1.06719351e+00, 3.34100604e-01, 1.04919875e+00, 1.20382452e+00,\n",
       "         2.07676053e+00, 1.61736295e-01, 8.04197609e-01, 6.18894458e-01,\n",
       "         6.89323366e-01, 1.37305164e+00, 2.54366249e-01, 1.82280868e-01,\n",
       "         2.99063921e-01, 8.97813737e-01, 7.19053149e-01, 5.86235285e-01,\n",
       "         1.30595422e+00, 4.96618181e-01, 2.43142295e+00, 2.48003244e+00,\n",
       "         3.14165771e-01, 6.24138355e-01, 1.41437483e+00, 9.43584442e-01,\n",
       "         7.15512395e-01, 2.07189292e-01, 1.06489408e+00, 2.20806766e+00,\n",
       "         2.53320307e-01, 3.76180738e-01, 4.48287353e-02, 7.71211922e-01,\n",
       "         1.22293937e+00, 1.05443203e+00, 8.50536942e-01, 1.62895888e-01,\n",
       "         8.76937151e-01, 1.44348955e+00, 1.18213892e+00, 8.65653992e-01,\n",
       "         4.57054526e-01, 2.46264148e+00, 2.42272949e+00, 1.35511029e+00,\n",
       "         7.76740551e-01, 1.33241034e+00, 3.65948752e-02, 2.18789840e+00,\n",
       "         8.66325796e-02, 4.29028302e-01, 3.84407014e-01, 7.11609423e-01,\n",
       "         3.63107586e+00, 4.46736246e-01, 2.65283883e-01, 1.02903116e-02,\n",
       "         8.89651477e-01, 1.08777130e+00, 1.83944106e-01, 1.14543056e+00,\n",
       "         2.19473100e+00, 6.79252371e-02, 7.07044899e-01, 1.47918534e+00,\n",
       "         2.67038870e+00, 4.64275151e-01, 3.62957865e-01, 7.81380653e-01,\n",
       "         1.00419879e+00, 1.33159065e+00, 3.33103299e-01, 1.49619889e+00,\n",
       "         2.91189522e-01, 1.14381135e+00, 2.01023310e-01, 2.13490129e+00,\n",
       "         6.24509096e-01, 1.05821478e+00, 9.29275036e-01, 7.00950027e-01,\n",
       "         2.68962479e+00, 2.27531362e+00, 1.37495220e-01, 6.42262876e-01,\n",
       "         2.90062785e-01, 1.59023911e-01, 1.83614051e+00, 1.24920511e+00,\n",
       "         1.46681166e+00, 6.27610266e-01, 3.42476904e-01, 1.31347716e+00,\n",
       "         2.70370078e+00, 1.34805012e+00, 5.10026589e-02, 1.24603820e+00,\n",
       "         1.01955307e+00, 1.47115934e+00, 1.37196612e+00, 5.10753155e-01,\n",
       "         1.02306414e+00, 2.88614988e-01, 1.46337116e+00, 1.00485957e+00,\n",
       "         5.69393873e-01, 2.72589743e-01, 1.33312690e+00, 4.33294810e-02,\n",
       "         5.74202061e-01, 1.40064383e+00, 8.28661621e-01, 1.56117535e+00,\n",
       "         4.71521854e-01, 4.73701239e-01, 7.08733618e-01, 7.53033876e-01,\n",
       "         7.01004446e-01, 9.41777349e-01, 6.39719188e-01, 3.44217956e-01,\n",
       "         1.67266846e+00, 4.71906930e-01, 1.02754736e+00, 9.87800863e-03,\n",
       "         1.97963342e-01, 5.99814393e-02, 5.68948865e-01, 4.48240429e-01,\n",
       "         1.39426455e-01, 6.55257225e-01, 2.70393878e-01, 5.67054331e-01,\n",
       "         1.61609936e+00, 6.18739784e-01, 2.63329482e+00, 1.83755243e+00,\n",
       "         5.17187715e-01, 1.12700713e+00, 5.49915358e-02, 8.44125390e-01,\n",
       "         3.11973572e+00, 2.46210739e-01, 1.12571788e+00, 9.82301652e-01,\n",
       "         2.66326088e-02, 2.70957649e-02, 1.58886456e+00, 3.78180265e-01,\n",
       "         5.20036854e-02, 2.73616225e-01, 1.83752942e+00, 1.68427394e-03,\n",
       "         1.03838336e+00, 2.79798746e-01, 1.26984859e+00, 8.21729183e-01,\n",
       "         1.76797700e+00, 4.02236164e-01, 8.54706049e-01, 3.48337603e+00,\n",
       "         2.47337800e-02, 1.59888101e+00, 2.45463192e-01, 1.42622435e+00,\n",
       "         1.44285846e+00, 4.70978260e-01, 1.32315326e+00, 1.38554350e-01,\n",
       "         6.06639028e-01, 3.69641393e-01, 3.84139359e-01, 9.33957577e-01,\n",
       "         9.29291964e-01, 3.80775988e-01, 4.55622189e-02, 1.05294883e+00,\n",
       "         1.56391472e-01, 7.05456257e-01, 2.50173616e+00, 1.21958804e+00,\n",
       "         7.13320911e-01, 5.29731624e-02, 7.46555090e-01, 8.91760767e-01,\n",
       "         5.38043857e-01, 8.39743733e-01, 4.82219681e-02, 6.90388560e-01,\n",
       "         5.52389979e-01, 8.26054215e-01, 3.78954560e-01, 1.21556461e+00,\n",
       "         5.53178191e-02, 1.84803605e-01, 4.08746630e-01, 1.53192258e+00,\n",
       "         1.48329484e+00, 1.48047161e+00, 3.66135806e-01, 4.49347317e-01,\n",
       "         2.33593726e+00, 2.09505454e-01, 1.01530719e+00, 1.80992281e+00,\n",
       "         1.53716981e+00, 1.18133903e+00, 1.08915186e+00, 5.80248833e-01,\n",
       "         3.09372377e+00, 6.08357906e-01, 7.07585335e-01, 1.81689665e-01,\n",
       "         2.20071721e+00, 1.42585492e+00, 8.35356712e-01, 2.58887744e+00,\n",
       "         4.89658952e-01, 6.09035432e-01, 4.13517296e-01, 5.02501940e-03,\n",
       "         6.01484239e-01, 1.94890097e-01, 1.56624341e+00, 1.26087296e+00,\n",
       "         5.73598266e-01, 1.61077845e+00, 4.19927835e+00, 1.60270774e+00,\n",
       "         1.27933487e-01, 2.74896669e+00, 6.92337334e-01, 6.38687074e-01,\n",
       "         4.27357219e-02, 1.15105987e+00, 1.41995394e+00, 1.85419667e+00,\n",
       "         4.90264475e-01, 1.18953824e-01, 1.12122667e+00, 5.44608891e-01,\n",
       "         2.22434258e+00, 1.08242881e+00, 7.72088885e-01, 1.31390706e-01,\n",
       "         1.24763608e-01, 1.56816387e+00, 9.32975709e-01, 5.66735804e-01,\n",
       "         1.65685511e+00, 1.29642391e+00, 1.12756360e+00, 9.27172840e-01,\n",
       "         5.57019830e-01, 1.10805881e+00, 9.51311290e-01, 1.04844654e+00,\n",
       "         1.95402563e+00, 1.04212284e+00, 1.15509108e-01, 3.74015838e-01,\n",
       "         5.68841815e-01, 5.85860491e-01, 4.75503623e-01, 6.45450473e-01,\n",
       "         5.62582493e-01, 1.39586830e+00, 1.19161594e+00, 8.19406211e-01,\n",
       "         4.14178431e-01, 2.25374293e+00, 1.80347478e+00, 2.16709471e+00,\n",
       "         7.36133039e-01, 2.59588385e+00, 1.73420440e-02, 4.85347390e-01,\n",
       "         1.55197644e+00, 2.40852261e+00, 4.13189650e-01, 1.31471503e+00,\n",
       "         2.28530955e+00, 1.54162383e+00, 1.94798917e-01, 4.06156242e-01,\n",
       "         1.22170210e+00, 2.28239037e-02, 5.30746341e-01, 1.22978866e+00,\n",
       "         1.23554087e+00, 5.20103395e-01, 8.66406083e-01, 7.97847986e-01,\n",
       "         1.53805375e+00, 1.15240741e+00, 1.18272090e+00, 1.83993764e-02,\n",
       "         2.22441339e+00, 1.34803760e+00, 2.28692949e-01, 2.68319106e+00,\n",
       "         1.48839247e+00, 1.00847709e+00, 3.44306469e-01, 9.13920641e-01,\n",
       "         1.64320111e+00, 1.69323063e+00, 1.45029259e+00, 1.33078730e+00,\n",
       "         6.21581614e-01, 5.92291057e-01, 4.85580683e-01, 4.49489623e-01,\n",
       "         5.03268540e-01, 2.14869127e-01, 9.33290541e-01, 1.32497162e-01,\n",
       "         8.61196637e-01, 2.20297313e+00, 1.08444023e+00, 1.13149822e-01,\n",
       "         7.48244703e-01, 1.22171319e+00, 1.16949451e+00, 1.64895475e+00,\n",
       "         1.15325582e+00, 9.86458659e-01, 8.28277841e-02, 1.39830339e+00,\n",
       "         1.32757270e+00, 1.25985527e+00, 1.29404712e+00, 1.94676733e+00,\n",
       "         1.88278973e+00, 5.35767317e-01, 6.02218091e-01, 1.10391808e+00,\n",
       "         9.02619183e-01, 7.88674116e-01, 8.71118437e-03, 6.20455265e-01,\n",
       "         7.33001232e-01, 1.31537664e+00, 1.17394531e+00, 9.79195714e-01,\n",
       "         4.32908118e-01, 2.28166366e+00, 1.06041282e-01, 1.66841531e+00,\n",
       "         8.48455727e-01, 0.00000000e+00, 1.08846271e+00, 5.17793238e-01,\n",
       "         9.65637743e-01, 1.89352131e+00, 6.92689955e-01, 5.14955580e-01]],\n",
       "       dtype=float32)]"
      ]
     },
     "execution_count": 27,
     "metadata": {},
     "output_type": "execute_result"
    }
   ],
   "source": [
    "#resnetID2vectors([318556])"
   ]
  }
 ],
 "metadata": {
  "kernelspec": {
   "display_name": "Python 3 (ipykernel)",
   "language": "python",
   "name": "python3"
  },
  "language_info": {
   "codemirror_mode": {
    "name": "ipython",
    "version": 3
   },
   "file_extension": ".py",
   "mimetype": "text/x-python",
   "name": "python",
   "nbconvert_exporter": "python",
   "pygments_lexer": "ipython3",
   "version": "3.8.12"
  }
 },
 "nbformat": 4,
 "nbformat_minor": 5
}
